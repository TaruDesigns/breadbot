{
 "cells": [
  {
   "cell_type": "code",
   "execution_count": 1,
   "metadata": {},
   "outputs": [],
   "source": [
    "import os\n",
    "\n",
    "from ultralytics import YOLO\n",
    "\n",
    "dataset_folder = \"/home/hawa/shared/datasets/breadsegmentationv4\"\n"
   ]
  },
  {
   "cell_type": "code",
   "execution_count": 3,
   "metadata": {},
   "outputs": [],
   "source": [
    "model = YOLO(\"breadv4/v4/weights/best.pt\")  # load a pretrained model (recommended for training)"
   ]
  },
  {
   "cell_type": "code",
   "execution_count": 8,
   "metadata": {},
   "outputs": [
    {
     "name": "stdout",
     "output_type": "stream",
     "text": [
      "\n",
      "image 1/1 /home/hawa/shared/breadbot/downloads/IMG_20240406_105710_296.jpg: 480x640 1 bread, 5.5ms\n",
      "Speed: 17.2ms preprocess, 5.5ms inference, 1.0ms postprocess per image at shape (1, 3, 480, 640)\n",
      "Results saved to \u001b[1mcustommodelresults/predict\u001b[0m\n"
     ]
    }
   ],
   "source": [
    "results = model.predict(\"/home/hawa/shared/breadbot/downloads/IMG_20240406_105710_296.jpg\", save=True, project=\"custommodelresults\")"
   ]
  },
  {
   "cell_type": "code",
   "execution_count": 13,
   "metadata": {},
   "outputs": [
    {
     "name": "stdout",
     "output_type": "stream",
     "text": [
      "\n",
      "image 1/25 /home/hawa/shared/breadbot/downloads/20211110_112256.png: 480x640 1 bread, 8.2ms\n",
      "image 2/25 /home/hawa/shared/breadbot/downloads/20231003_112654.png: 480x640 1 bread, 6.8ms\n",
      "image 3/25 /home/hawa/shared/breadbot/downloads/20240405_093211.png: 640x480 1 bread, 34.3ms\n",
      "image 4/25 /home/hawa/shared/breadbot/downloads/Bernd-das-Brot.png: 480x640 (no detections), 7.3ms\n",
      "image 5/25 /home/hawa/shared/breadbot/downloads/IMG_20240316_100346_782.jpg: 480x640 1 bread, 6.9ms\n",
      "image 6/25 /home/hawa/shared/breadbot/downloads/IMG_20240405_170338_953.png: 480x640 1 bread, 6.9ms\n",
      "image 7/25 /home/hawa/shared/breadbot/downloads/IMG_20240406_095240_939.jpg: 480x640 1 bread, 6.9ms\n",
      "image 8/25 /home/hawa/shared/breadbot/downloads/IMG_20240406_101505_624.jpg: 480x640 1 bread, 7.0ms\n",
      "image 9/25 /home/hawa/shared/breadbot/downloads/IMG_20240406_101546_610.jpg: 480x640 1 bread, 7.0ms\n",
      "image 10/25 /home/hawa/shared/breadbot/downloads/IMG_20240406_105654_871.jpg: 480x640 1 bread, 6.9ms\n",
      "image 11/25 /home/hawa/shared/breadbot/downloads/IMG_20240406_105710_296.jpg: 480x640 1 bread, 6.9ms\n",
      "image 12/25 /home/hawa/shared/breadbot/downloads/IMG_3904.png: 640x480 1 bread, 7.3ms\n",
      "image 13/25 /home/hawa/shared/breadbot/downloads/PXL_20240310_0607398562.jpg: 544x640 1 bread, 34.5ms\n",
      "image 14/25 /home/hawa/shared/breadbot/downloads/PXL_20240330_191630458.png: 640x448 1 bread, 38.1ms\n",
      "image 15/25 /home/hawa/shared/breadbot/downloads/PXL_20240401_215443547.png: 512x640 1 bread, 34.8ms\n",
      "image 16/25 /home/hawa/shared/breadbot/downloads/assets.png: 384x640 4 breads, 42.3ms\n",
      "image 17/25 /home/hawa/shared/breadbot/downloads/bernd-das-brot-110_v-tlarge169_w-1920_zc-a4147743.png: 384x640 1 bread, 8.5ms\n",
      "image 18/25 /home/hawa/shared/breadbot/downloads/coolbread.jpg: 640x320 4 breads, 34.6ms\n",
      "image 19/25 /home/hawa/shared/breadbot/downloads/licensed-image.png: 640x640 2 breads, 7.7ms\n",
      "image 20/25 /home/hawa/shared/breadbot/downloads/low-calorie-wraps-4-500x500.png: 640x640 1 bread, 7.2ms\n",
      "image 21/25 /home/hawa/shared/breadbot/downloads/rn_image_picker_lib_temp_0456fc88-11b7-4d96-885b-2646706d1a34.png: 640x320 4 breads, 9.1ms\n",
      "image 22/25 /home/hawa/shared/breadbot/downloads/rn_image_picker_lib_temp_10e9e9bc-b7ca-4e9d-8775-d140aab6e802.png: 640x320 1 bread, 8.5ms\n",
      "image 23/25 /home/hawa/shared/breadbot/downloads/rn_image_picker_lib_temp_9907dbcb-1162-4646-bd6a-67dd4fbd201d.jpg: 640x320 1 bread, 8.5ms\n",
      "image 24/25 /home/hawa/shared/breadbot/downloads/s-l1200.png: 640x512 (no detections), 34.6ms\n",
      "image 25/25 /home/hawa/shared/breadbot/downloads/test.jpg: 640x320 1 bread, 9.2ms\n",
      "Speed: 2.6ms preprocess, 15.6ms inference, 1.0ms postprocess per image at shape (1, 3, 640, 320)\n",
      "Results saved to \u001b[1mcustommodelresults/predict2\u001b[0m\n"
     ]
    }
   ],
   "source": [
    "results = model.predict(\"/home/hawa/shared/breadbot/downloads/\", save=True, project=\"custommodelresults\")"
   ]
  },
  {
   "cell_type": "code",
   "execution_count": 12,
   "metadata": {},
   "outputs": [
    {
     "name": "stdout",
     "output_type": "stream",
     "text": [
      "ultralytics.engine.results.Results object with attributes:\n",
      "\n",
      "boxes: ultralytics.engine.results.Boxes object\n",
      "keypoints: None\n",
      "masks: None\n",
      "names: {0: 'bread'}\n",
      "obb: None\n",
      "orig_img: array([[[181, 176, 167],\n",
      "        [185, 180, 171],\n",
      "        [185, 180, 171],\n",
      "        ...,\n",
      "        [152, 141, 109],\n",
      "        [148, 143, 110],\n",
      "        [148, 146, 111]],\n",
      "\n",
      "       [[205, 200, 191],\n",
      "        [206, 201, 192],\n",
      "        [201, 196, 187],\n",
      "        ...,\n",
      "        [150, 139, 107],\n",
      "        [147, 142, 109],\n",
      "        [147, 145, 110]],\n",
      "\n",
      "       [[218, 213, 204],\n",
      "        [217, 212, 203],\n",
      "        [209, 204, 195],\n",
      "        ...,\n",
      "        [149, 138, 106],\n",
      "        [145, 140, 107],\n",
      "        [144, 142, 107]],\n",
      "\n",
      "       ...,\n",
      "\n",
      "       [[231, 215, 198],\n",
      "        [234, 218, 201],\n",
      "        [236, 220, 203],\n",
      "        ...,\n",
      "        [182, 169, 143],\n",
      "        [187, 171, 142],\n",
      "        [191, 173, 142]],\n",
      "\n",
      "       [[235, 219, 202],\n",
      "        [237, 221, 204],\n",
      "        [238, 222, 205],\n",
      "        ...,\n",
      "        [182, 169, 143],\n",
      "        [187, 171, 142],\n",
      "        [192, 174, 143]],\n",
      "\n",
      "       [[237, 221, 204],\n",
      "        [239, 223, 206],\n",
      "        [240, 224, 207],\n",
      "        ...,\n",
      "        [182, 169, 143],\n",
      "        [187, 171, 142],\n",
      "        [192, 174, 143]]], dtype=uint8)\n",
      "orig_shape: (3072, 4096)\n",
      "path: '/home/hawa/shared/breadbot/downloads/IMG_20240406_105710_296.jpg'\n",
      "probs: None\n",
      "save_dir: 'custommodelresults/predict'\n",
      "speed: {'preprocess': 17.249584197998047, 'inference': 5.493640899658203, 'postprocess': 0.9834766387939453}\n"
     ]
    }
   ],
   "source": [
    "for result in results:\n",
    "    print(result)\n",
    "    \n"
   ]
  }
 ],
 "metadata": {
  "kernelspec": {
   "display_name": "venv",
   "language": "python",
   "name": "python3"
  },
  "language_info": {
   "codemirror_mode": {
    "name": "ipython",
    "version": 3
   },
   "file_extension": ".py",
   "mimetype": "text/x-python",
   "name": "python",
   "nbconvert_exporter": "python",
   "pygments_lexer": "ipython3",
   "version": "3.10.12"
  }
 },
 "nbformat": 4,
 "nbformat_minor": 2
}
