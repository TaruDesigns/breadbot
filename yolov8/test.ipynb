{
 "cells": [
  {
   "cell_type": "code",
   "execution_count": 30,
   "metadata": {},
   "outputs": [
    {
     "name": "stdout",
     "output_type": "stream",
     "text": [
      "\n",
      "image 1/25 /home/hawa/shared/breadbot/downloads/20211110_112256.png: 480x640 1 baguette, 1 bread, 64.8ms\n",
      "image 2/25 /home/hawa/shared/breadbot/downloads/20231003_112654.png: 480x640 1 bread, 61.3ms\n",
      "image 3/25 /home/hawa/shared/breadbot/downloads/20240405_093211.png: 640x480 1 black, 1 bread, 1 cooked, 1 raised, 64.3ms\n",
      "image 4/25 /home/hawa/shared/breadbot/downloads/Bernd-das-Brot.png: 480x640 (no detections), 59.6ms\n",
      "image 5/25 /home/hawa/shared/breadbot/downloads/IMG_20240316_100346_782.jpg: 480x640 1 black, 1 bread, 68.8ms\n",
      "image 6/25 /home/hawa/shared/breadbot/downloads/IMG_20240405_170338_953.png: 480x640 1 bread, 1 raised, 1 white, 60.1ms\n",
      "image 7/25 /home/hawa/shared/breadbot/downloads/IMG_20240406_095240_939.jpg: 480x640 1 bread, 59.9ms\n",
      "image 8/25 /home/hawa/shared/breadbot/downloads/IMG_20240406_101505_624.jpg: 480x640 1 bread, 60.0ms\n",
      "image 9/25 /home/hawa/shared/breadbot/downloads/IMG_20240406_101546_610.jpg: 480x640 1 bread, 1 raised, 60.3ms\n",
      "image 10/25 /home/hawa/shared/breadbot/downloads/IMG_20240406_105654_871.jpg: 480x640 1 bread, 1 cooked, 1 raised, 62.2ms\n",
      "image 11/25 /home/hawa/shared/breadbot/downloads/IMG_20240406_105710_296.jpg: 480x640 1 bread, 60.1ms\n",
      "image 12/25 /home/hawa/shared/breadbot/downloads/IMG_3904.png: 640x480 1 bread, 1 cooked, 1 raised, 1 white, 61.6ms\n",
      "image 13/25 /home/hawa/shared/breadbot/downloads/PXL_20240310_0607398562.jpg: 544x640 1 bread, 1 cooked, 1 raised, 71.0ms\n",
      "image 14/25 /home/hawa/shared/breadbot/downloads/PXL_20240330_191630458.png: 640x448 1 bread, 1 cooked, 1 raised, 60.1ms\n",
      "image 15/25 /home/hawa/shared/breadbot/downloads/PXL_20240401_215443547.png: 512x640 1 bread, 1 seeds, 63.6ms\n",
      "image 16/25 /home/hawa/shared/breadbot/downloads/assets.png: 384x640 (no detections), 57.1ms\n",
      "image 17/25 /home/hawa/shared/breadbot/downloads/bernd-das-brot-110_v-tlarge169_w-1920_zc-a4147743.png: 384x640 (no detections), 70.3ms\n",
      "image 18/25 /home/hawa/shared/breadbot/downloads/coolbread.jpg: 640x320 3 breads, 2 buns, 2 cookeds, 1 no_seeds, 2 raiseds, 1 round, 1 seeds, 2 whites, 50.7ms\n",
      "image 19/25 /home/hawa/shared/breadbot/downloads/licensed-image.png: 640x640 (no detections), 94.5ms\n",
      "image 20/25 /home/hawa/shared/breadbot/downloads/low-calorie-wraps-4-500x500.png: 640x640 1 bread, 1 oblong, 1 uncooked, 86.2ms\n",
      "image 21/25 /home/hawa/shared/breadbot/downloads/rn_image_picker_lib_temp_0456fc88-11b7-4d96-885b-2646706d1a34.png: 640x320 3 breads, 2 buns, 2 cookeds, 1 no_seeds, 2 raiseds, 1 round, 1 seeds, 2 whites, 48.9ms\n",
      "image 22/25 /home/hawa/shared/breadbot/downloads/rn_image_picker_lib_temp_10e9e9bc-b7ca-4e9d-8775-d140aab6e802.png: 640x320 1 bread, 1 oblong, 1 raised, 46.1ms\n",
      "image 23/25 /home/hawa/shared/breadbot/downloads/rn_image_picker_lib_temp_9907dbcb-1162-4646-bd6a-67dd4fbd201d.jpg: 640x320 1 bread, 1 cooked, 1 raised, 46.7ms\n",
      "image 24/25 /home/hawa/shared/breadbot/downloads/s-l1200.png: 640x512 (no detections), 67.3ms\n",
      "image 25/25 /home/hawa/shared/breadbot/downloads/test.jpg: 640x320 1 bread, 1 oblong, 1 raised, 46.0ms\n",
      "Speed: 2.0ms preprocess, 62.1ms inference, 0.6ms postprocess per image at shape (1, 3, 640, 320)\n",
      "Results saved to \u001b[1mtrainedmodelresults/breadv7n-det.pt\u001b[0m\n",
      "\n",
      "image 1/25 /home/hawa/shared/breadbot/downloads/20211110_112256.png: 480x640 1 bread, 88.4ms\n",
      "image 2/25 /home/hawa/shared/breadbot/downloads/20231003_112654.png: 480x640 1 bread, 82.3ms\n",
      "image 3/25 /home/hawa/shared/breadbot/downloads/20240405_093211.png: 640x480 1 bread, 59.3ms\n",
      "image 4/25 /home/hawa/shared/breadbot/downloads/Bernd-das-Brot.png: 480x640 (no detections), 83.4ms\n",
      "image 5/25 /home/hawa/shared/breadbot/downloads/IMG_20240316_100346_782.jpg: 480x640 1 bread, 66.6ms\n",
      "image 6/25 /home/hawa/shared/breadbot/downloads/IMG_20240405_170338_953.png: 480x640 1 bread, 81.2ms\n",
      "image 7/25 /home/hawa/shared/breadbot/downloads/IMG_20240406_095240_939.jpg: 480x640 1 bread, 81.3ms\n",
      "image 8/25 /home/hawa/shared/breadbot/downloads/IMG_20240406_101505_624.jpg: 480x640 1 bread, 81.0ms\n",
      "image 9/25 /home/hawa/shared/breadbot/downloads/IMG_20240406_101546_610.jpg: 480x640 1 bread, 82.2ms\n",
      "image 10/25 /home/hawa/shared/breadbot/downloads/IMG_20240406_105654_871.jpg: 480x640 1 bread, 81.4ms\n",
      "image 11/25 /home/hawa/shared/breadbot/downloads/IMG_20240406_105710_296.jpg: 480x640 1 bread, 81.5ms\n",
      "image 12/25 /home/hawa/shared/breadbot/downloads/IMG_3904.png: 640x480 1 bread, 82.7ms\n",
      "image 13/25 /home/hawa/shared/breadbot/downloads/PXL_20240310_0607398562.jpg: 544x640 1 bread, 89.6ms\n",
      "image 14/25 /home/hawa/shared/breadbot/downloads/PXL_20240330_191630458.png: 640x448 1 bread, 72.2ms\n",
      "image 15/25 /home/hawa/shared/breadbot/downloads/PXL_20240401_215443547.png: 512x640 1 bread, 85.6ms\n",
      "image 16/25 /home/hawa/shared/breadbot/downloads/assets.png: 384x640 1 bread, 51.4ms\n",
      "image 17/25 /home/hawa/shared/breadbot/downloads/bernd-das-brot-110_v-tlarge169_w-1920_zc-a4147743.png: 384x640 (no detections), 69.1ms\n",
      "image 18/25 /home/hawa/shared/breadbot/downloads/coolbread.jpg: 640x320 3 breads, 59.3ms\n",
      "image 19/25 /home/hawa/shared/breadbot/downloads/licensed-image.png: 640x640 (no detections), 103.4ms\n",
      "image 20/25 /home/hawa/shared/breadbot/downloads/low-calorie-wraps-4-500x500.png: 640x640 1 bread, 82.1ms\n",
      "image 21/25 /home/hawa/shared/breadbot/downloads/rn_image_picker_lib_temp_0456fc88-11b7-4d96-885b-2646706d1a34.png: 640x320 3 breads, 47.4ms\n",
      "image 22/25 /home/hawa/shared/breadbot/downloads/rn_image_picker_lib_temp_10e9e9bc-b7ca-4e9d-8775-d140aab6e802.png: 640x320 1 bread, 60.2ms\n",
      "image 23/25 /home/hawa/shared/breadbot/downloads/rn_image_picker_lib_temp_9907dbcb-1162-4646-bd6a-67dd4fbd201d.jpg: 640x320 1 bread, 59.9ms\n",
      "image 24/25 /home/hawa/shared/breadbot/downloads/s-l1200.png: 640x512 (no detections), 86.9ms\n",
      "image 25/25 /home/hawa/shared/breadbot/downloads/test.jpg: 640x320 1 bread, 58.8ms\n",
      "Speed: 2.0ms preprocess, 75.1ms inference, 1.4ms postprocess per image at shape (1, 3, 640, 320)\n",
      "Results saved to \u001b[1mtrainedmodelresults/breadsegv4n-seg.pt\u001b[0m\n"
     ]
    }
   ],
   "source": [
    "from ultralytics import YOLO\n",
    "import os\n",
    "\n",
    "models_to_test = [\"breadv7n-det.pt\", \"breadsegv4n-seg.pt\"]\n",
    "testdata = \"/home/hawa/shared/breadbot/downloads/\"\n",
    "resultsdict = {}\n",
    "for modname in models_to_test:\n",
    "    model = YOLO(os.path.join(\"trainedmodels\", modname))  # load a pretrained model (recommended for training)\n",
    "    results = model.predict(testdata, save=True, project=\"trainedmodelresults\", device=\"cpu\", conf=0.5, name=modname)\n",
    "    resultsdict[modname] = results"
   ]
  },
  {
   "cell_type": "code",
   "execution_count": 39,
   "metadata": {},
   "outputs": [
    {
     "name": "stdout",
     "output_type": "stream",
     "text": [
      "[{'name': 'bread', 'class': 2, 'confidence': 0.86702, 'box': {'x1': 182.89246, 'y1': 0.0, 'x2': 3070.55615, 'y2': 2173.6106}}, {'name': 'baguette', 'class': 0, 'confidence': 0.67563, 'box': {'x1': 227.46921, 'y1': 0.0, 'x2': 3081.11597, 'y2': 2103.34619}}]\n",
      "{'bread': 0.86702, 'baguette': 0.67563}\n"
     ]
    }
   ],
   "source": [
    "import json\n",
    "resulttojson = json.loads(resultsdict[\"breadv7n-det.pt\"][0].tojson())\n",
    "print(resulttojson)\n",
    "predictions = {\n",
    "        prediction[\"name\"]: prediction[\"confidence\"]\n",
    "        for prediction in resulttojson\n",
    "    }\n",
    "print(predictions)"
   ]
  },
  {
   "cell_type": "code",
   "execution_count": 44,
   "metadata": {},
   "outputs": [
    {
     "data": {
      "text/plain": [
       "'../output/segmented/result.png'"
      ]
     },
     "execution_count": 44,
     "metadata": {},
     "output_type": "execute_result"
    }
   ],
   "source": [
    "destpath = \"../output/segmented/result.png\"\n",
    "import shutil\n",
    "\n",
    "resultsdict[\"breadv7n-det.pt\"][0].save(\"result.png\")\n",
    "shutil.move(\"result.png\", destpath)"
   ]
  }
 ],
 "metadata": {
  "kernelspec": {
   "display_name": "venv",
   "language": "python",
   "name": "python3"
  },
  "language_info": {
   "codemirror_mode": {
    "name": "ipython",
    "version": 3
   },
   "file_extension": ".py",
   "mimetype": "text/x-python",
   "name": "python",
   "nbconvert_exporter": "python",
   "pygments_lexer": "ipython3",
   "version": "3.10.12"
  }
 },
 "nbformat": 4,
 "nbformat_minor": 2
}
