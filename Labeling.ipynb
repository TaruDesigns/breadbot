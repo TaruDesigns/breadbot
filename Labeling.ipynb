{
 "cells": [
  {
   "cell_type": "code",
   "execution_count": 1,
   "metadata": {},
   "outputs": [],
   "source": [
    "from inference_sdk import InferenceHTTPClient\n",
    "from inference_sdk import InferenceConfiguration\n",
    "import json\n",
    "import cv2\n",
    "import os\n",
    "from dotenv import load_dotenv\n",
    "load_dotenv()\n",
    "\n",
    "input_img = \"testdata/isometric/IMG_20240316_100329_589.jpg\"\n",
    "\n",
    "\n",
    "CLIENT = InferenceHTTPClient(\n",
    "    api_url=\"https://outline.roboflow.com\", api_key=os.environ.get(\"ROBOFLOW_API_KEY\")\n",
    ")\n",
    "\n"
   ]
  },
  {
   "cell_type": "code",
   "execution_count": 2,
   "metadata": {},
   "outputs": [],
   "source": [
    "#Inference\n",
    "result = CLIENT.infer(input_img, model_id=\"bread-seg/7\")"
   ]
  },
  {
   "cell_type": "code",
   "execution_count": 10,
   "metadata": {},
   "outputs": [
    {
     "data": {
      "text/plain": [
       "{'time': 0.10499945500123431,\n",
       " 'image': {'width': 4096, 'height': 3072},\n",
       " 'predictions': [{'x': 2180.0,\n",
       "   'y': 1444.0,\n",
       "   'width': 2808.0,\n",
       "   'height': 2376.0,\n",
       "   'confidence': 0.8857170343399048,\n",
       "   'class': 'bread',\n",
       "   'points': [],\n",
       "   'class_id': 2,\n",
       "   'detection_id': '96317075-9602-4ace-b117-07fde99385dd'},\n",
       "  {'x': 2172.0,\n",
       "   'y': 1426.0,\n",
       "   'width': 2816.0,\n",
       "   'height': 2324.0,\n",
       "   'confidence': 0.7557339072227478,\n",
       "   'class': 'raised',\n",
       "   'points': [],\n",
       "   'class_id': 10,\n",
       "   'detection_id': '6b97cbfc-6daa-4a33-b8f2-9602a33ce4f7'},\n",
       "  {'x': 2170.0,\n",
       "   'y': 1444.0,\n",
       "   'width': 2804.0,\n",
       "   'height': 2368.0,\n",
       "   'confidence': 0.6913304924964905,\n",
       "   'class': 'cooked',\n",
       "   'points': [],\n",
       "   'class_id': 5,\n",
       "   'detection_id': '3eeef27f-e5f3-445f-bdf9-11908a7a7ad0'},\n",
       "  {'x': 2168.0,\n",
       "   'y': 1410.0,\n",
       "   'width': 2752.0,\n",
       "   'height': 2340.0,\n",
       "   'confidence': 0.5364662408828735,\n",
       "   'class': 'round',\n",
       "   'points': [],\n",
       "   'class_id': 11,\n",
       "   'detection_id': 'bf814018-ed33-4899-8a8d-316371c4b726'}]}"
      ]
     },
     "execution_count": 10,
     "metadata": {},
     "output_type": "execute_result"
    }
   ],
   "source": [
    "result"
   ]
  },
  {
   "cell_type": "code",
   "execution_count": null,
   "metadata": {},
   "outputs": [],
   "source": [
    "\n",
    "\n",
    "img = cv2.imread(input_img)\n",
    "for pred in result[\"predictions\"]:\n",
    "    if True or pred[\"class\"] == \"bread\":\n",
    "        label = pred[\"class\"]\n",
    "        x, w, y, h = (\n",
    "            int(pred[\"x\"]),\n",
    "            int(pred[\"width\"]),\n",
    "            int(pred[\"y\"]),\n",
    "            int(pred[\"height\"]),\n",
    "        )\n",
    "        cv2.rectangle(\n",
    "            img,\n",
    "            (x - w // 2, y - h // 2),\n",
    "            (x + w // 2, y + h // 2),\n",
    "            (255, 0, 255),\n",
    "            8,\n",
    "        )\n",
    "        cv2.putText(\n",
    "            img,\n",
    "            label,\n",
    "            (x, y - 5),\n",
    "            cv2.FONT_HERSHEY_SIMPLEX,\n",
    "            0.5,\n",
    "            (0, 255, 0),\n",
    "            4,\n",
    "        )\n",
    "output_img = \"testdata/results/roboflowresult.jpg\"\n",
    "cv2.imwrite(output_img, img)\n",
    "\n"
   ]
  },
  {
   "cell_type": "code",
   "execution_count": 11,
   "metadata": {},
   "outputs": [
    {
     "data": {
      "text/plain": [
       "{'bread': 0.8857170343399048,\n",
       " 'raised': 0.7557339072227478,\n",
       " 'cooked': 0.6913304924964905,\n",
       " 'round': 0.5364662408828735}"
      ]
     },
     "execution_count": 11,
     "metadata": {},
     "output_type": "execute_result"
    }
   ],
   "source": [
    "\n",
    "\n",
    "predictions = {prediction[\"class\"]: prediction[\"confidence\"] for prediction in result[\"predictions\"]}\n",
    "predictions"
   ]
  },
  {
   "cell_type": "code",
   "execution_count": 8,
   "metadata": {},
   "outputs": [
    {
     "data": {
      "text/plain": [
       "False"
      ]
     },
     "execution_count": 8,
     "metadata": {},
     "output_type": "execute_result"
    }
   ],
   "source": [
    "\"bread\" in predictions"
   ]
  },
  {
   "cell_type": "code",
   "execution_count": null,
   "metadata": {},
   "outputs": [],
   "source": [
    "jsonresults = \"testsbreadcompute/data.json\"\n",
    "\n",
    "with open(jsonresults, \"w\", encoding=\"utf-8\") as f:\n",
    "    json.dump(result, f, ensure_ascii=False, indent=4)"
   ]
  },
  {
   "cell_type": "code",
   "execution_count": 5,
   "metadata": {},
   "outputs": [],
   "source": [
    "jsonresults = \"testsbreadcompute/data.json\"\n",
    "with open(jsonresults) as f:\n",
    "    result = json.load(f)"
   ]
  }
 ],
 "metadata": {
  "kernelspec": {
   "display_name": "venv",
   "language": "python",
   "name": "python3"
  },
  "language_info": {
   "codemirror_mode": {
    "name": "ipython",
    "version": 3
   },
   "file_extension": ".py",
   "mimetype": "text/x-python",
   "name": "python",
   "nbconvert_exporter": "python",
   "pygments_lexer": "ipython3",
   "version": "3.10.12"
  }
 },
 "nbformat": 4,
 "nbformat_minor": 2
}
