{
 "cells": [
  {
   "cell_type": "code",
   "execution_count": 1,
   "metadata": {},
   "outputs": [],
   "source": [
    "from inference_sdk import InferenceHTTPClient\n",
    "from inference_sdk import InferenceConfiguration\n",
    "import json\n",
    "import cv2\n",
    "import os\n",
    "from dotenv import load_dotenv\n",
    "load_dotenv()\n",
    "\n",
    "input_img = \"testdata/isometric/IMG_20240316_100329_589.jpg\"\n",
    "\n",
    "\n",
    "CLIENT = InferenceHTTPClient(\n",
    "    api_url=\"https://outline.roboflow.com\", api_key=os.environ.get(\"ROBOFLOW_API_KEY\")\n",
    ")\n",
    "\n"
   ]
  },
  {
   "cell_type": "code",
   "execution_count": 2,
   "metadata": {},
   "outputs": [],
   "source": [
    "#Inference\n",
    "result = CLIENT.infer(input_img, model_id=\"bread-seg/7\")"
   ]
  },
  {
   "cell_type": "code",
   "execution_count": null,
   "metadata": {},
   "outputs": [],
   "source": [
    "\n",
    "\n",
    "img = cv2.imread(input_img)\n",
    "for pred in result[\"predictions\"]:\n",
    "    if True or pred[\"class\"] == \"bread\":\n",
    "        label = pred[\"class\"]\n",
    "        x, w, y, h = (\n",
    "            int(pred[\"x\"]),\n",
    "            int(pred[\"width\"]),\n",
    "            int(pred[\"y\"]),\n",
    "            int(pred[\"height\"]),\n",
    "        )\n",
    "        cv2.rectangle(\n",
    "            img,\n",
    "            (x - w // 2, y - h // 2),\n",
    "            (x + w // 2, y + h // 2),\n",
    "            (255, 0, 255),\n",
    "            8,\n",
    "        )\n",
    "        cv2.putText(\n",
    "            img,\n",
    "            label,\n",
    "            (x, y - 5),\n",
    "            cv2.FONT_HERSHEY_SIMPLEX,\n",
    "            0.5,\n",
    "            (0, 255, 0),\n",
    "            4,\n",
    "        )\n",
    "output_img = \"testdata/results/roboflowresult.jpg\"\n",
    "cv2.imwrite(output_img, img)\n",
    "\n"
   ]
  },
  {
   "cell_type": "code",
   "execution_count": 6,
   "metadata": {},
   "outputs": [
    {
     "data": {
      "text/plain": [
       "[('bread', 0.8857170343399048),\n",
       " ('raised', 0.7557339072227478),\n",
       " ('cooked', 0.6913304924964905),\n",
       " ('round', 0.5364662408828735)]"
      ]
     },
     "execution_count": 6,
     "metadata": {},
     "output_type": "execute_result"
    }
   ],
   "source": [
    "result\n",
    "\n",
    "[(prediction[\"class\"], prediction[\"confidence\"]) for prediction in result[\"predictions\"]]"
   ]
  },
  {
   "cell_type": "code",
   "execution_count": null,
   "metadata": {},
   "outputs": [],
   "source": [
    "jsonresults = \"testsbreadcompute/data.json\"\n",
    "\n",
    "with open(jsonresults, \"w\", encoding=\"utf-8\") as f:\n",
    "    json.dump(result, f, ensure_ascii=False, indent=4)"
   ]
  },
  {
   "cell_type": "code",
   "execution_count": 5,
   "metadata": {},
   "outputs": [],
   "source": [
    "jsonresults = \"testsbreadcompute/data.json\"\n",
    "with open(jsonresults) as f:\n",
    "    result = json.load(f)"
   ]
  }
 ],
 "metadata": {
  "kernelspec": {
   "display_name": "venv",
   "language": "python",
   "name": "python3"
  },
  "language_info": {
   "codemirror_mode": {
    "name": "ipython",
    "version": 3
   },
   "file_extension": ".py",
   "mimetype": "text/x-python",
   "name": "python",
   "nbconvert_exporter": "python",
   "pygments_lexer": "ipython3",
   "version": "3.10.12"
  }
 },
 "nbformat": 4,
 "nbformat_minor": 2
}
